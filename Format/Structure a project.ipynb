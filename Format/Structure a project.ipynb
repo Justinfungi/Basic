{
 "cells": [
  {
   "cell_type": "markdown",
   "id": "eb344851",
   "metadata": {
    "ExecuteTime": {
     "end_time": "2022-07-02T16:59:44.010803Z",
     "start_time": "2022-07-02T16:59:44.007522Z"
    }
   },
   "source": [
    "\n",
    "<p>constants\n",
    "   <ol>\n",
    "       <small>variables<small>\n",
    "   </ol>\n",
    "</p>\n",
    "\n",
    "<p>functions\n",
    "</p>\n",
    "\n",
    "<p>run\n",
    "</p>\n",
    "\n"
   ]
  },
  {
   "cell_type": "markdown",
   "id": "1ca3245c",
   "metadata": {},
   "source": [
    "if __name__ == '__main__':\n",
    "    run()"
   ]
  }
 ],
 "metadata": {
  "kernelspec": {
   "display_name": "Python 3 (ipykernel)",
   "language": "python",
   "name": "python3"
  },
  "language_info": {
   "codemirror_mode": {
    "name": "ipython",
    "version": 3
   },
   "file_extension": ".py",
   "mimetype": "text/x-python",
   "name": "python",
   "nbconvert_exporter": "python",
   "pygments_lexer": "ipython3",
   "version": "3.9.7"
  },
  "toc": {
   "base_numbering": 1,
   "nav_menu": {},
   "number_sections": true,
   "sideBar": true,
   "skip_h1_title": false,
   "title_cell": "Table of Contents",
   "title_sidebar": "Contents",
   "toc_cell": false,
   "toc_position": {},
   "toc_section_display": true,
   "toc_window_display": false
  }
 },
 "nbformat": 4,
 "nbformat_minor": 5
}
