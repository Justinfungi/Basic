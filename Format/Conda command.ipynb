{
 "cells": [
  {
   "cell_type": "raw",
   "id": "a1d543ae",
   "metadata": {},
   "source": [
    "conda config --add channels conda-forge \n",
    "conda config --set channel_priority flexible\n",
    "conda install jupyter_contrib_nbextensions \n",
    "jupyter contrib nbextension install --user\n",
    "conda install jupyter_nbextensions_configurator\n",
    "jupyter nbextensions_configurator enable --user"
   ]
  },
  {
   "cell_type": "markdown",
   "id": "6a8bb84e",
   "metadata": {},
   "source": [
    "conda update --force conda"
   ]
  },
  {
   "cell_type": "code",
   "execution_count": 1,
   "id": "735b0a05",
   "metadata": {},
   "outputs": [
    {
     "data": {
      "text/html": [
       "\n",
       "        <iframe\n",
       "            width=\"800\"\n",
       "            height=\"450\"\n",
       "            src=\"https://towardsdatascience.com/bringing-the-best-out-of-jupyter-notebooks-for-data-science-f0871519ca29\"\n",
       "            frameborder=\"0\"\n",
       "            allowfullscreen\n",
       "            \n",
       "        ></iframe>\n",
       "        "
      ],
      "text/plain": [
       "<IPython.lib.display.IFrame at 0x105c48eb0>"
      ]
     },
     "execution_count": 1,
     "metadata": {},
     "output_type": "execute_result"
    }
   ],
   "source": [
    "from IPython.display import IFrame\n",
    "IFrame('https://towardsdatascience.com/bringing-the-best-out-of-jupyter-notebooks-for-data-science-f0871519ca29', width=800, height=450)\n"
   ]
  },
  {
   "cell_type": "code",
   "execution_count": 2,
   "id": "9e5d5cdd",
   "metadata": {},
   "outputs": [
    {
     "name": "stdout",
     "output_type": "stream",
     "text": [
      "Warning: 'conda-forge' already in 'channels' list, moving to the top\r\n"
     ]
    }
   ],
   "source": [
    "!conda config --add channels conda-forge "
   ]
  },
  {
   "cell_type": "code",
   "execution_count": 3,
   "id": "ec160adc",
   "metadata": {},
   "outputs": [
    {
     "name": "stdout",
     "output_type": "stream",
     "text": [
      "\n",
      "Note: you may need to restart the kernel to use updated packages.\n"
     ]
    }
   ],
   "source": [
    "conda config --set channel_priority flexible"
   ]
  }
 ],
 "metadata": {
  "kernelspec": {
   "display_name": "Python 3 (ipykernel)",
   "language": "python",
   "name": "python3"
  },
  "language_info": {
   "codemirror_mode": {
    "name": "ipython",
    "version": 3
   },
   "file_extension": ".py",
   "mimetype": "text/x-python",
   "name": "python",
   "nbconvert_exporter": "python",
   "pygments_lexer": "ipython3",
   "version": "3.9.12"
  }
 },
 "nbformat": 4,
 "nbformat_minor": 5
}
