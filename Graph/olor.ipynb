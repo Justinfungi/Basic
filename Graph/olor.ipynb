{
 "cells": [
  {
   "cell_type": "code",
   "execution_count": 1,
   "id": "de231715",
   "metadata": {
    "ExecuteTime": {
     "end_time": "2022-09-17T04:56:48.686363Z",
     "start_time": "2022-09-17T04:56:48.660459Z"
    }
   },
   "outputs": [],
   "source": [
    "features_colors = ['#DC8665', '#138086', '#543666', '#CD7672', '#EEB462', \n",
    "                 '#787FF6', '#205072', \"#F3ABB6\", \"#FD8F52\", '#5D6E1E',\n",
    "                  \"#C6A477\", '#AE6378', \"#9B9B9B\"\n",
    "                 ]"
   ]
  }
 ],
 "metadata": {
  "kernelspec": {
   "display_name": "Python 3 (ipykernel)",
   "language": "python",
   "name": "python3"
  },
  "language_info": {
   "codemirror_mode": {
    "name": "ipython",
    "version": 3
   },
   "file_extension": ".py",
   "mimetype": "text/x-python",
   "name": "python",
   "nbconvert_exporter": "python",
   "pygments_lexer": "ipython3",
   "version": "3.9.12"
  },
  "toc": {
   "base_numbering": 1,
   "nav_menu": {},
   "number_sections": true,
   "sideBar": true,
   "skip_h1_title": false,
   "title_cell": "Table of Contents",
   "title_sidebar": "Contents",
   "toc_cell": false,
   "toc_position": {},
   "toc_section_display": true,
   "toc_window_display": false
  }
 },
 "nbformat": 4,
 "nbformat_minor": 5
}
