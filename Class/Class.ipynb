{
 "cells": [
  {
   "cell_type": "markdown",
   "id": "4487a415",
   "metadata": {
    "ExecuteTime": {
     "end_time": "2022-07-03T06:02:28.720489Z",
     "start_time": "2022-07-03T06:02:28.718329Z"
    },
    "heading_collapsed": true
   },
   "source": [
    "#  Class Creation"
   ]
  },
  {
   "cell_type": "code",
   "execution_count": null,
   "id": "8216b605",
   "metadata": {
    "ExecuteTime": {
     "end_time": "2022-07-03T09:25:46.716820Z",
     "start_time": "2022-07-03T09:25:46.711518Z"
    },
    "hidden": true
   },
   "outputs": [],
   "source": [
    "# How to create a class:\n",
    "class Item:\n",
    "    def calculate_total_price(self, x, y):\n",
    "        return x * y\n",
    "\n",
    "# How to create an instance of a class\n",
    "item1 = Item()\n",
    "\n",
    "# Assign attributes:\n",
    "item1.name = \"Phone\"\n",
    "item1.price = 100\n",
    "item1.quantity = 5\n",
    "\n",
    "# Calling methods from instances of a class:\n",
    "print(item1.calculate_total_price(item1.price, item1.quantity))\n",
    "\n",
    "# How to create an instance of a class (We could create as much as instances we'd like to)\n",
    "item2 = Item()\n",
    "\n",
    "# Assign attributes\n",
    "item2.name = \"Laptop\"\n",
    "item2.price = 1000\n",
    "item2.quantity = 3\n",
    "\n",
    "# Calling methods from instances of a class: \n",
    "print(item2.calculate_total_price(item2.price, item2.quantity))"
   ]
  },
  {
   "cell_type": "code",
   "execution_count": null,
   "id": "e56a78b9",
   "metadata": {
    "ExecuteTime": {
     "end_time": "2022-07-03T09:25:46.724308Z",
     "start_time": "2022-07-03T09:25:46.718992Z"
    },
    "hidden": true
   },
   "outputs": [],
   "source": [
    "#systematically define attributes\n",
    "\n",
    "class Item:\n",
    "    def __init__(self, name: str, price: float, quantity=0):\n",
    "        # Run validations to the received arguments\n",
    "        assert price >= 0, f\"Price {price} is not greater than or equal to zero!\"\n",
    "        assert quantity >= 0, f\"Quantity {quantity} is not greater or equal to zero!\"\n",
    "\n",
    "        # Assign to self object\n",
    "        self.name = name\n",
    "        self.price = price\n",
    "        self.quantity = quantity\n",
    "\n",
    "    def calculate_total_price(self):\n",
    "        return self.price * self.quantity\n",
    "\n",
    "item1 = Item(\"Phone\", 100, 1)\n",
    "item2 = Item(\"Laptop\", 1000, 3)\n",
    "\n",
    "print(item1.calculate_total_price())\n",
    "print(item2.calculate_total_price())"
   ]
  },
  {
   "cell_type": "code",
   "execution_count": null,
   "id": "43f93c55",
   "metadata": {
    "ExecuteTime": {
     "end_time": "2022-07-03T09:25:46.736648Z",
     "start_time": "2022-07-03T09:25:46.726025Z"
    },
    "hidden": true
   },
   "outputs": [],
   "source": [
    "import csv\n",
    "\n",
    "class Item:\n",
    "    pay_rate = 0.8 # The pay rate after 20% discount\n",
    "    all = [] # container\n",
    "    def __init__(self, name: str, price: float, quantity=0):\n",
    "        # Run validations to the received arguments\n",
    "        assert price >= 0, f\"Price {price} is not greater than or equal to zero!\"\n",
    "        assert quantity >= 0, f\"Quantity {quantity} is not greater or equal to zero!\"\n",
    "\n",
    "        # Assign to self object\n",
    "        self.name = name\n",
    "        self.price = price\n",
    "        self.quantity = quantity\n",
    "\n",
    "        # Actions to execute\n",
    "        Item.all.append(self)\n",
    "\n",
    "    def calculate_total_price(self):\n",
    "        return self.price * self.quantity\n",
    "\n",
    "    def apply_discount(self):\n",
    "        self.price = self.price * self.pay_rate\n",
    "        \n",
    "    @classmethod #define it as class method, set part 2\n",
    "    def instantiate_from_csv(cls):\n",
    "        with open('/Users/xiaokeai/Documents/Justin_AI/DM_MAC_AI/AI/Basic/WebScraping/Project 1/Items.csv', 'r') as f:\n",
    "            reader = csv.DictReader(f)\n",
    "            items = list(reader)\n",
    "\n",
    "        for item in items:\n",
    "            Item(\n",
    "                name=item.get('name'),\n",
    "                price=float(item.get('price')),\n",
    "                quantity=int(item.get('quantity')),\n",
    "            )\n",
    "            \n",
    "    @staticmethod\n",
    "    #no related to items\n",
    "    def is_integer(num):\n",
    "        # We will count out the floats that are point zero\n",
    "        # For i.e: 5.0, 10.0\n",
    "        if isinstance(num, float):\n",
    "            # Count out the floats that are point zero\n",
    "            return num.is_integer()\n",
    "        elif isinstance(num, int):\n",
    "            return True\n",
    "        else:\n",
    "            return False\n",
    "\n",
    "\n",
    "    def __repr__(self):\n",
    "        return f\"{self.__class__.__name__}('{self.name}', {self.price}, {self.quantity})\"\n",
    "\n",
    "item1 = Item(\"Phone\", 100, 1)\n",
    "item2 = Item(\"Laptop\", 1000, 3)\n",
    "item3 = Item(\"Cable\", 10, 5)\n",
    "item4 = Item(\"Mouse\", 50, 5)\n",
    "item5 = Item(\"Keyboard\", 75, 5)\n",
    "\n",
    "\n",
    "print(\"1\",Item.all)\n",
    "print(\"2\",item1.calculate_total_price()) # call subfunction need a ()\n",
    "# apply opeational function and then return its attribute\n",
    "print(\"3\",item1.apply_discount(),item1.price) \n",
    "print(\"4\",item1.pay_rate) #normal atrribute \n",
    "## print(Item.__dict__)\n",
    "#print dictionary for item 1\n",
    "print(\"5\",item1.__dict__)\n",
    "print(\"6\",item1.__repr__())"
   ]
  },
  {
   "cell_type": "markdown",
   "id": "474757e4",
   "metadata": {
    "ExecuteTime": {
     "end_time": "2022-07-03T06:02:03.715947Z",
     "start_time": "2022-07-03T06:02:03.713566Z"
    },
    "heading_collapsed": true
   },
   "source": [
    "# Class vs Static Methods "
   ]
  },
  {
   "cell_type": "raw",
   "id": "089e6de0",
   "metadata": {
    "ExecuteTime": {
     "end_time": "2022-07-03T06:01:22.273881Z",
     "start_time": "2022-07-03T06:01:22.270552Z"
    },
    "hidden": true
   },
   "source": [
    "class Item:\n",
    "    @staticmethod\n",
    "    def is_integer():\n",
    "        '''\n",
    "        This should do something that has a relationship\n",
    "        with the class, but not something that must be unique\n",
    "        per instance!\n",
    "        '''\n",
    "    @classmethod\n",
    "    def instantiate_from_something(cls):\n",
    "        '''\n",
    "        This should also do something that has a relationship\n",
    "        with the class, but usually, those are used to\n",
    "        manipulate different structures of data to instantiate\n",
    "        objects, like we have done with CSV.\n",
    "        '''\n",
    "\n",
    "# THE ONLY DIFFERENCE BETWEEN THOSE:\n",
    "# Static methods are not passing the object reference as the first argument in the background!\n",
    "\n",
    "\n",
    "# NOTE: However, those could be also called from instances.\n"
   ]
  },
  {
   "cell_type": "code",
   "execution_count": 74,
   "id": "24fed189",
   "metadata": {
    "ExecuteTime": {
     "end_time": "2022-07-03T09:27:35.250017Z",
     "start_time": "2022-07-03T09:27:35.246632Z"
    },
    "hidden": true,
    "scrolled": true
   },
   "outputs": [
    {
     "name": "stdout",
     "output_type": "stream",
     "text": [
      "[Phone('jscPhonev10', 500, 5), Item('Phone', 100.0, 1), Item('Laptop', 1000.0, 3), Item('Cable', 10.0, 5), Item('Mouse', 50.0, 5), Item('Keyboard', 75.0, 5)]\n"
     ]
    }
   ],
   "source": [
    "Item.instantiate_from_csv()\n",
    "print(Item.all)"
   ]
  },
  {
   "cell_type": "markdown",
   "id": "9016f084",
   "metadata": {},
   "source": [
    "# Inheritance "
   ]
  },
  {
   "cell_type": "code",
   "execution_count": 73,
   "id": "0660aae7",
   "metadata": {
    "ExecuteTime": {
     "end_time": "2022-07-03T09:27:29.513337Z",
     "start_time": "2022-07-03T09:27:29.504921Z"
    }
   },
   "outputs": [],
   "source": [
    "import csv\n",
    "\n",
    "\n",
    "class Item:\n",
    "    pay_rate = 0.8 # The pay rate after 20% discount\n",
    "    all = []\n",
    "    def __init__(self, name: str, price: float, quantity=0):\n",
    "        # Run validations to the received arguments\n",
    "        assert price >= 0, f\"Price {price} is not greater than or equal to zero!\"\n",
    "        assert quantity >= 0, f\"Quantity {quantity} is not greater or equal to zero!\"\n",
    "\n",
    "        # Assign to self object\n",
    "        self.name = name\n",
    "        self.price = price\n",
    "        self.quantity = quantity\n",
    "\n",
    "        # Actions to execute\n",
    "        Item.all.append(self)\n",
    "\n",
    "    def calculate_total_price(self):\n",
    "        return self.price * self.quantity\n",
    "\n",
    "    def apply_discount(self):\n",
    "        self.price = self.price * self.pay_rate\n",
    "\n",
    "    @classmethod\n",
    "    def instantiate_from_csv(cls):\n",
    "        with open('/Users/xiaokeai/Documents/Justin_AI/DM_MAC_AI/AI/Basic/WebScraping/Project 1/Items.csv', 'r') as f:\n",
    "            reader = csv.DictReader(f)\n",
    "            items = list(reader)\n",
    "\n",
    "        for item in items:\n",
    "            Item(\n",
    "                name=item.get('name'),\n",
    "                price=float(item.get('price')),\n",
    "                quantity=int(item.get('quantity')),\n",
    "            )\n",
    "\n",
    "    @staticmethod\n",
    "    def is_integer(num):\n",
    "        # We will count out the floats that are point zero\n",
    "        # For i.e: 5.0, 10.0\n",
    "        if isinstance(num, float):\n",
    "            # Count out the floats that are point zero\n",
    "            return num.is_integer()\n",
    "        elif isinstance(num, int):\n",
    "            return True\n",
    "        else:\n",
    "            return False\n",
    "\n",
    "    def __repr__(self):\n",
    "        return f\"{self.__class__.__name__}('{self.name}', {self.price}, {self.quantity})\"\n",
    "\n",
    "\n",
    "class Phone(Item):\n",
    "    def __init__(self, name: str, price: float, quantity=0, broken_phones=0):\n",
    "        # Call to super function to have access to all attributes / methods\n",
    "        super().__init__(\n",
    "            name, price, quantity\n",
    "        )\n",
    "\n",
    "        # Run validations to the received arguments\n",
    "        assert broken_phones >= 0, f\"Broken Phones {broken_phones} is not greater or equal to zero!\"\n",
    "\n",
    "        # Assign to self object\n",
    "        self.broken_phones = broken_phones\n",
    "\n",
    "phone1 = Phone(\"jscPhonev10\", 500, 5, 1)"
   ]
  },
  {
   "cell_type": "code",
   "execution_count": 77,
   "id": "d13f1722",
   "metadata": {
    "ExecuteTime": {
     "end_time": "2022-07-03T09:30:24.202499Z",
     "start_time": "2022-07-03T09:30:24.199062Z"
    }
   },
   "outputs": [
    {
     "name": "stdout",
     "output_type": "stream",
     "text": [
      "[Phone('jscPhonev10', 500, 5), Item('Phone', 100.0, 1), Item('Laptop', 1000.0, 3), Item('Cable', 10.0, 5), Item('Mouse', 50.0, 5), Item('Keyboard', 75.0, 5)]\n",
      "[Phone('jscPhonev10', 500, 5), Item('Phone', 100.0, 1), Item('Laptop', 1000.0, 3), Item('Cable', 10.0, 5), Item('Mouse', 50.0, 5), Item('Keyboard', 75.0, 5)]\n"
     ]
    }
   ],
   "source": [
    "print(Phone.all)\n",
    "print(Item.all)"
   ]
  },
  {
   "cell_type": "code",
   "execution_count": null,
   "id": "79931fa4",
   "metadata": {},
   "outputs": [],
   "source": []
  }
 ],
 "metadata": {
  "kernelspec": {
   "display_name": "Python 3 (ipykernel)",
   "language": "python",
   "name": "python3"
  },
  "language_info": {
   "codemirror_mode": {
    "name": "ipython",
    "version": 3
   },
   "file_extension": ".py",
   "mimetype": "text/x-python",
   "name": "python",
   "nbconvert_exporter": "python",
   "pygments_lexer": "ipython3",
   "version": "3.9.7"
  },
  "toc": {
   "base_numbering": 1,
   "nav_menu": {},
   "number_sections": true,
   "sideBar": true,
   "skip_h1_title": false,
   "title_cell": "Table of Contents",
   "title_sidebar": "Contents",
   "toc_cell": false,
   "toc_position": {},
   "toc_section_display": true,
   "toc_window_display": false
  }
 },
 "nbformat": 4,
 "nbformat_minor": 5
}
